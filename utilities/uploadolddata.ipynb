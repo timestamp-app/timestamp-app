{
 "cells": [
  {
   "cell_type": "code",
   "execution_count": null,
   "metadata": {},
   "outputs": [],
   "source": [
    "import csv\n",
    "import json\n",
    "from uuid import uuid4\n",
    "from azure.storage.table import TableService, Entity"
   ]
  },
  {
   "cell_type": "code",
   "execution_count": null,
   "metadata": {},
   "outputs": [],
   "source": [
    "table_service = TableService(account_name=\"\", account_key=\"\")"
   ]
  },
  {
   "cell_type": "code",
   "execution_count": null,
   "metadata": {},
   "outputs": [],
   "source": [
    "with open(\"data.csv\", newline='') as csvfile:\n",
    "    records = csv.reader(csvfile, delimiter=',', quotechar='\"')\n",
    "    for r in records:\n",
    "        if r[0] == 'DateTime':\n",
    "            continue\n",
    "        \n",
    "        data = {}\n",
    "        data[\"PartitionKey\"] = r[0][:4] # Taking just the year\n",
    "        data[\"RowKey\"] = str(uuid4())\n",
    "        data[\"time\"] = r[0][:-3] # Trimming off seconds\n",
    "        data[\"lat\"] = r[1]\n",
    "        data[\"long\"] = r[2]\n",
    "        \n",
    "        table_service.insert_entity(\"records\", data)"
   ]
  },
  {
   "cell_type": "code",
   "execution_count": null,
   "metadata": {},
   "outputs": [],
   "source": []
  }
 ],
 "metadata": {
  "kernelspec": {
   "display_name": ".venv",
   "language": "python",
   "name": ".venv"
  },
  "language_info": {
   "codemirror_mode": {
    "name": "ipython",
    "version": 3
   },
   "file_extension": ".py",
   "mimetype": "text/x-python",
   "name": "python",
   "nbconvert_exporter": "python",
   "pygments_lexer": "ipython3",
   "version": "3.8.2"
  }
 },
 "nbformat": 4,
 "nbformat_minor": 4
}
